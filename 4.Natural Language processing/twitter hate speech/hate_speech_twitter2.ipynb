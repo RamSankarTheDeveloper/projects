{
 "cells": [
  {
   "cell_type": "code",
   "execution_count": 1,
   "id": "8aeeaec8",
   "metadata": {},
   "outputs": [],
   "source": [
    "import pandas as pd\n",
    "import matplotlib.pyplot as plt\n",
    "import warnings \n",
    "warnings.filterwarnings('ignore')"
   ]
  },
  {
   "cell_type": "code",
   "execution_count": 2,
   "id": "f450412e",
   "metadata": {},
   "outputs": [
    {
     "name": "stdout",
     "output_type": "stream",
     "text": [
      "Training Set: (31962, 3)\n",
      "Test Set: (17197, 2)\n",
      "Train_Set -----\n",
      "id       0\n",
      "label    0\n",
      "tweet    0\n",
      "dtype: int64\n",
      "Test_set -----\n",
      "id       0\n",
      "tweet    0\n",
      "dtype: int64\n"
     ]
    },
    {
     "data": {
      "text/html": [
       "<div>\n",
       "<style scoped>\n",
       "    .dataframe tbody tr th:only-of-type {\n",
       "        vertical-align: middle;\n",
       "    }\n",
       "\n",
       "    .dataframe tbody tr th {\n",
       "        vertical-align: top;\n",
       "    }\n",
       "\n",
       "    .dataframe thead th {\n",
       "        text-align: right;\n",
       "    }\n",
       "</style>\n",
       "<table border=\"1\" class=\"dataframe\">\n",
       "  <thead>\n",
       "    <tr style=\"text-align: right;\">\n",
       "      <th></th>\n",
       "      <th>id</th>\n",
       "      <th>label</th>\n",
       "      <th>tweet</th>\n",
       "    </tr>\n",
       "  </thead>\n",
       "  <tbody>\n",
       "    <tr>\n",
       "      <th>0</th>\n",
       "      <td>1</td>\n",
       "      <td>0</td>\n",
       "      <td>@user when a father is dysfunctional and is s...</td>\n",
       "    </tr>\n",
       "    <tr>\n",
       "      <th>1</th>\n",
       "      <td>2</td>\n",
       "      <td>0</td>\n",
       "      <td>@user @user thanks for #lyft credit i can't us...</td>\n",
       "    </tr>\n",
       "    <tr>\n",
       "      <th>2</th>\n",
       "      <td>3</td>\n",
       "      <td>0</td>\n",
       "      <td>bihday your majesty</td>\n",
       "    </tr>\n",
       "    <tr>\n",
       "      <th>3</th>\n",
       "      <td>4</td>\n",
       "      <td>0</td>\n",
       "      <td>#model   i love u take with u all the time in ...</td>\n",
       "    </tr>\n",
       "    <tr>\n",
       "      <th>4</th>\n",
       "      <td>5</td>\n",
       "      <td>0</td>\n",
       "      <td>factsguide: society now    #motivation</td>\n",
       "    </tr>\n",
       "  </tbody>\n",
       "</table>\n",
       "</div>"
      ],
      "text/plain": [
       "   id  label                                              tweet\n",
       "0   1      0   @user when a father is dysfunctional and is s...\n",
       "1   2      0  @user @user thanks for #lyft credit i can't us...\n",
       "2   3      0                                bihday your majesty\n",
       "3   4      0  #model   i love u take with u all the time in ...\n",
       "4   5      0             factsguide: society now    #motivation"
      ]
     },
     "execution_count": 2,
     "metadata": {},
     "output_type": "execute_result"
    }
   ],
   "source": [
    "train = pd.read_csv('train_E6oV3lV.csv')\n",
    "print(\"Training Set:\"% train.columns, train.shape)\n",
    "test = pd.read_csv('test_tweets_anuFYb8.csv')\n",
    "print(\"Test Set:\"% test.columns, test.shape)\n",
    "\n",
    "print('Train_Set -----')\n",
    "print(train.isnull().sum())\n",
    "print('Test_set -----')\n",
    "print(test.isnull().sum())\n",
    "train.head()"
   ]
  },
  {
   "cell_type": "code",
   "execution_count": 3,
   "id": "f4e35b7b",
   "metadata": {},
   "outputs": [
    {
     "data": {
      "text/plain": [
       "0    29720\n",
       "1     2242\n",
       "Name: label, dtype: int64"
      ]
     },
     "execution_count": 3,
     "metadata": {},
     "output_type": "execute_result"
    }
   ],
   "source": [
    "train.label.value_counts()"
   ]
  },
  {
   "cell_type": "code",
   "execution_count": 4,
   "id": "30ce7ae8",
   "metadata": {},
   "outputs": [
    {
     "data": {
      "text/plain": [
       "1    29720\n",
       "0    29720\n",
       "Name: label, dtype: int64"
      ]
     },
     "execution_count": 4,
     "metadata": {},
     "output_type": "execute_result"
    }
   ],
   "source": [
    "import re\n",
    "from sklearn.utils import resample\n",
    "\n",
    "def  clean_text(df, text_field):\n",
    "    df[text_field] = df[text_field].str.lower()\n",
    "    df[text_field] = df[text_field].apply(lambda elem: re.sub(r\"(@[A-Za-z0-9]+)|([^0-9A-Za-z \\t])|(\\w+:\\/\\/\\S+)|^rt|http.+?\", \"\", elem))  \n",
    "    return df\n",
    "test_clean = clean_text(test, \"tweet\")\n",
    "train_clean = clean_text(train, \"tweet\")\n",
    "\n",
    "train_majority = train_clean[train_clean.label==0]\n",
    "train_minority = train_clean[train_clean.label==1]\n",
    "train_minority_upsampled = resample(train_minority, \n",
    "                                 replace=True,    \n",
    "                                 n_samples=len(train_majority),   \n",
    "                                 random_state=123)\n",
    "train_upsampled = pd.concat([train_minority_upsampled, train_majority])\n",
    "train_upsampled['label'].value_counts()"
   ]
  },
  {
   "cell_type": "code",
   "execution_count": 7,
   "id": "f3b7a334",
   "metadata": {},
   "outputs": [
    {
     "name": "stdout",
     "output_type": "stream",
     "text": [
      "Collecting xgboost\n",
      "  Downloading xgboost-1.7.3-py3-none-win_amd64.whl (89.1 MB)\n",
      "     -------------------------------------- 89.1/89.1 MB 328.0 kB/s eta 0:00:00\n",
      "Requirement already satisfied: scipy in c:\\users\\91807\\anaconda3\\lib\\site-packages (from xgboost) (1.9.1)\n",
      "Requirement already satisfied: numpy in c:\\users\\91807\\anaconda3\\lib\\site-packages (from xgboost) (1.21.5)\n",
      "Installing collected packages: xgboost\n",
      "Successfully installed xgboost-1.7.3\n",
      "[20:35:24] WARNING: C:/buildkite-agent/builds/buildkite-windows-cpu-autoscaling-group-i-08de971ced8a8cdc6-1/xgboost/xgboost-ci-windows/src/learner.cc:767: \n",
      "Parameters: { \"use_label\" } are not used.\n",
      "\n",
      "----------------------------------------\n",
      "F1_Score:  0.9159862338889263\n",
      "Accuracy_Score:  0.9162180349932705\n",
      "----------------------------------------\n",
      "---RepeatedKFOLD---\n",
      "[20:35:33] WARNING: C:/buildkite-agent/builds/buildkite-windows-cpu-autoscaling-group-i-08de971ced8a8cdc6-1/xgboost/xgboost-ci-windows/src/learner.cc:767: \n",
      "Parameters: { \"use_label\" } are not used.\n",
      "\n",
      "[20:35:39] WARNING: C:/buildkite-agent/builds/buildkite-windows-cpu-autoscaling-group-i-08de971ced8a8cdc6-1/xgboost/xgboost-ci-windows/src/learner.cc:767: \n",
      "Parameters: { \"use_label\" } are not used.\n",
      "\n",
      "[20:35:44] WARNING: C:/buildkite-agent/builds/buildkite-windows-cpu-autoscaling-group-i-08de971ced8a8cdc6-1/xgboost/xgboost-ci-windows/src/learner.cc:767: \n",
      "Parameters: { \"use_label\" } are not used.\n",
      "\n",
      "[20:35:49] WARNING: C:/buildkite-agent/builds/buildkite-windows-cpu-autoscaling-group-i-08de971ced8a8cdc6-1/xgboost/xgboost-ci-windows/src/learner.cc:767: \n",
      "Parameters: { \"use_label\" } are not used.\n",
      "\n",
      "[20:35:55] WARNING: C:/buildkite-agent/builds/buildkite-windows-cpu-autoscaling-group-i-08de971ced8a8cdc6-1/xgboost/xgboost-ci-windows/src/learner.cc:767: \n",
      "Parameters: { \"use_label\" } are not used.\n",
      "\n",
      "[20:36:01] WARNING: C:/buildkite-agent/builds/buildkite-windows-cpu-autoscaling-group-i-08de971ced8a8cdc6-1/xgboost/xgboost-ci-windows/src/learner.cc:767: \n",
      "Parameters: { \"use_label\" } are not used.\n",
      "\n",
      "[20:36:09] WARNING: C:/buildkite-agent/builds/buildkite-windows-cpu-autoscaling-group-i-08de971ced8a8cdc6-1/xgboost/xgboost-ci-windows/src/learner.cc:767: \n",
      "Parameters: { \"use_label\" } are not used.\n",
      "\n",
      "[20:36:14] WARNING: C:/buildkite-agent/builds/buildkite-windows-cpu-autoscaling-group-i-08de971ced8a8cdc6-1/xgboost/xgboost-ci-windows/src/learner.cc:767: \n",
      "Parameters: { \"use_label\" } are not used.\n",
      "\n",
      "[20:36:20] WARNING: C:/buildkite-agent/builds/buildkite-windows-cpu-autoscaling-group-i-08de971ced8a8cdc6-1/xgboost/xgboost-ci-windows/src/learner.cc:767: \n",
      "Parameters: { \"use_label\" } are not used.\n",
      "\n",
      "[20:36:32] WARNING: C:/buildkite-agent/builds/buildkite-windows-cpu-autoscaling-group-i-08de971ced8a8cdc6-1/xgboost/xgboost-ci-windows/src/learner.cc:767: \n",
      "Parameters: { \"use_label\" } are not used.\n",
      "\n",
      "----------------------------------------\n",
      "RKFold_Score:  0.9057424854194706\n",
      "----------------------------------------\n"
     ]
    }
   ],
   "source": [
    "!pip install xgboost\n",
    "import xgboost as xgb\n",
    "import numpy as np\n",
    "from sklearn.feature_extraction.text import TfidfVectorizer\n",
    "from sklearn.pipeline import Pipeline\n",
    "from sklearn.feature_extraction.text import CountVectorizer\n",
    "from sklearn.feature_extraction.text import TfidfTransformer\n",
    "from sklearn.metrics import f1_score, accuracy_score\n",
    "from sklearn.model_selection import train_test_split, RepeatedStratifiedKFold, cross_val_score\n",
    "\n",
    "pipeline_xgb = Pipeline([\n",
    "    ('vect', CountVectorizer()),\n",
    "    ('tfidf',  TfidfTransformer()),\n",
    "    ('nb', xgb.XGBClassifier(use_label =False)),])\n",
    "\n",
    "x_train, x_test, y_train, y_test = train_test_split(train_upsampled['tweet'],\n",
    "                                                    train_upsampled['label'],random_state = 0)\n",
    "model = pipeline_xgb.fit(x_train, y_train)\n",
    "y_predict = model.predict(x_test)\n",
    "print('--'* 20)\n",
    "print('F1_Score: ',f1_score(y_test, y_predict))\n",
    "print('Accuracy_Score: ', accuracy_score(y_test, y_predict))\n",
    "print('--'*20)\n",
    "print('---RepeatedKFOLD---')\n",
    "cv = RepeatedStratifiedKFold(n_splits = 5, n_repeats = 2, random_state =1)\n",
    "score2 = cross_val_score(pipeline_xgb, x_train, y_train, cv=cv, scoring='f1_micro', n_jobs=1)\n",
    "score2 = np.mean(score2)\n",
    "print('--'* 20)\n",
    "print('RKFold_Score: ', score2)\n",
    "print('--'* 20)"
   ]
  },
  {
   "cell_type": "code",
   "execution_count": 8,
   "id": "6a083ccc",
   "metadata": {},
   "outputs": [
    {
     "name": "stdout",
     "output_type": "stream",
     "text": [
      "--- Axis1 = ref_val, Axis0 = pred_val ---\n",
      "Confusion_Matrix: \n",
      "[[6787  662]\n",
      " [ 583 6828]]\n",
      "Precsion_Score:  0.9111290106054504\n",
      "Recall_Score:  0.9208955223880597\n",
      "y_hat_shape:  (14860, 2)\n"
     ]
    }
   ],
   "source": [
    "from sklearn.metrics import confusion_matrix, precision_score, recall_score, f1_score, roc_auc_score, roc_curve, auc, precision_recall_curve\n",
    "print('--- Axis1 = ref_val, Axis0 = pred_val ---')\n",
    "\n",
    "x_val, y_val = x_test, y_test\n",
    "\n",
    "yhat = model.predict_proba(x_val)\n",
    "ypred = model.predict(x_val)\n",
    "print('Confusion_Matrix: ')\n",
    "print(confusion_matrix(y_val, ypred, labels = [1,0]).T)\n",
    "print('Precsion_Score: ', precision_score(y_val, ypred, labels = [1,0]))\n",
    "print('Recall_Score: ', recall_score(y_val, ypred, labels = [1,0]))\n",
    "\n",
    "print('y_hat_shape: ',yhat.shape)\n",
    "yhat = yhat[:,1]"
   ]
  },
  {
   "cell_type": "code",
   "execution_count": 9,
   "id": "b16ca2ac",
   "metadata": {},
   "outputs": [
    {
     "name": "stdout",
     "output_type": "stream",
     "text": [
      "\n",
      "random_classifier: ROC AUC=0.500\n",
      "XGBclassifier: ROC AUC=0.976\n"
     ]
    },
    {
     "data": {
      "image/png": "[encoded data removed]",
      "text/plain": [
       "<Figure size 640x480 with 1 Axes>"
      ]
     },
     "metadata": {},
     "output_type": "display_data"
    }
   ],
   "source": [
    "ns_probs = [0 for _ in range(len(y_val))]\n",
    "ns_auc = roc_auc_score(y_val, ns_probs, labels = [1,0])\n",
    "lr_auc = roc_auc_score(y_val, yhat, labels = [1,0])\n",
    "print()\n",
    "print('random_classifier: ROC AUC=%.3f' % (ns_auc))\n",
    "print('XGBclassifier: ROC AUC=%.3f' % (lr_auc))\n",
    "\n",
    "ns_fpr, ns_tpr, _ = roc_curve(y_val, ns_probs)\n",
    "lr_fpr, lr_tpr, _ = roc_curve(y_val, yhat)\n",
    "\n",
    "plt.plot(ns_fpr, ns_tpr, linestyle='--', label='random_classifier')\n",
    "plt.plot(lr_fpr, lr_tpr, marker='.', label='XGBclassifier')\n",
    "plt.xlabel('False Positive Rate')\n",
    "plt.ylabel('True Positive Rate')\n",
    "plt.legend()\n",
    "plt.title('ROC_CURVE')\n",
    "plt.show()"
   ]
  },
  {
   "cell_type": "code",
   "execution_count": 10,
   "id": "681a157b",
   "metadata": {},
   "outputs": [
    {
     "name": "stdout",
     "output_type": "stream",
     "text": [
      "auc-score:  0.9733875328219912\n",
      "f1-score:  0.9159862338889263\n"
     ]
    },
    {
     "data": {
      "image/png": "[encoded data removed]",
      "text/plain": [
       "<Figure size 640x480 with 1 Axes>"
      ]
     },
     "metadata": {},
     "output_type": "display_data"
    }
   ],
   "source": [
    "lr_precision, lr_recall, _ = precision_recall_curve(y_val, yhat)\n",
    "print('auc-score: ',auc(lr_recall, lr_precision))\n",
    "print('f1-score: ', f1_score(y_val, ypred, labels = [1,0]))\n",
    "no_skill = len(y_val[y_val==1]) / len(y_val)\n",
    "plt.plot([0, 1], [no_skill, no_skill], linestyle='--', label='random_classifier')\n",
    "plt.plot(lr_recall, lr_precision, marker='.', label='XGBclassifier')\n",
    "plt.xlabel('Recall')\n",
    "plt.ylabel('Precision')\n",
    "plt.legend()\n",
    "plt.title('Precision_Recall_Curve')\n",
    "plt.show()"
   ]
  },
  {
   "cell_type": "code",
   "execution_count": 28,
   "id": "d2ce96ef",
   "metadata": {},
   "outputs": [
    {
     "name": "stdout",
     "output_type": "stream",
     "text": [
      "Entered_Comment:   I hate humans and dogs !! they suck \n",
      "Conc : Hate_Comment_Detected_😔\n",
      "------------------------------------------------------------\n",
      "Entered_Comment:  I love playing soccer \n",
      "Conc: Not_a_hate_comment_😄\n",
      "------------------------------------------------------------\n"
     ]
    }
   ],
   "source": [
    "def predict(inp):\n",
    "    inp = pd.Series(inp)\n",
    "    yhat = ((np.ravel(model.predict(inp)).tolist()))\n",
    "    if yhat[-1] == 1:\n",
    "        print('Conc : Hate_Comment_Detected_😔')\n",
    "    if yhat[-1] == 0:\n",
    "        print('Conc: Not_a_hate_comment_😄')\n",
    "    \n",
    "\n",
    "inp = [' I hate humans and dogs !! they suck ', 'I love playing soccer ']\n",
    "for i in inp:\n",
    "    print('Entered_Comment: ', i)\n",
    "    predict(i)\n",
    "    print('--'*30)"
   ]
  },
  {
   "cell_type": "code",
   "execution_count": 16,
   "id": "e04cac0b",
   "metadata": {},
   "outputs": [
    {
     "name": "stdout",
     "output_type": "stream",
     "text": [
      "Entered_Comment:   I hate humans and dogs !! they suck \n",
      "Conc : Hate_Comment_Detected_😔\n",
      "Entered_Comment:  I love playing soccer \n",
      "Conc: Not_a_hate_comment_😄\n",
      "Entered_Comment:  i love roses\n",
      "Conc: Not_a_hate_comment_😄\n",
      "Entered_Comment:  i hate blacks\n",
      "Conc : Hate_Comment_Detected_😔\n",
      "------------------------------------------------------------\n",
      "2 Hate comments and  2 positive comments\n",
      "------------------------------------------------------------\n"
     ]
    }
   ],
   "source": [
    "def predict(inp):\n",
    "    \n",
    "    inp = pd.Series(inp)\n",
    "    yhat = ((np.ravel(model.predict(inp)).tolist()))\n",
    "    if yhat[-1] == 1:\n",
    "        print('Conc : Hate_Comment_Detected_😔')\n",
    "        c=1\n",
    "    if yhat[-1] == 0:\n",
    "        print('Conc: Not_a_hate_comment_😄')\n",
    "        c=1\n",
    "    return yhat[-1]\n",
    "        \n",
    "inp = [' I hate humans and dogs !! they suck ', 'I love playing soccer ','i love roses','i hate blacks']\n",
    "n=0\n",
    "p=0\n",
    "for i in inp:\n",
    "    print('Entered_Comment: ', i)\n",
    "    c = predict(i)\n",
    "    if c == 1:\n",
    "        n+=1\n",
    "    if c == 0:\n",
    "        p+=1\n",
    "\n",
    "print('--'*30)\n",
    "print(n,'Hate comments and ',p, 'positive comments')\n",
    "print('--'*30)\n",
    "    "
   ]
  },
  {
   "cell_type": "code",
   "execution_count": null,
   "id": "4d40b040",
   "metadata": {},
   "outputs": [],
   "source": []
  }
 ],
 "metadata": {
  "kernelspec": {
   "display_name": "Python 3 (ipykernel)",
   "language": "python",
   "name": "python3"
  },
  "language_info": {
   "codemirror_mode": {
    "name": "ipython",
    "version": 3
   },
   "file_extension": ".py",
   "mimetype": "text/x-python",
   "name": "python",
   "nbconvert_exporter": "python",
   "pygments_lexer": "ipython3",
   "version": "3.9.13"
  }
 },
 "nbformat": 4,
 "nbformat_minor": 5
}
