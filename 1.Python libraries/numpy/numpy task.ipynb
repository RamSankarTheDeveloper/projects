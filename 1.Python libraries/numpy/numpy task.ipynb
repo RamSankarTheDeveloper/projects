{
 "cells": [
  {
   "cell_type": "code",
   "execution_count": 10,
   "id": "ded5c759",
   "metadata": {},
   "outputs": [],
   "source": [
    "import numpy\n",
    "array=numpy.array([[1,2],[3,4],[5,6],[7,8]])"
   ]
  },
  {
   "cell_type": "raw",
   "id": "8679d0d9",
   "metadata": {},
   "source": [
    "print(array[1])"
   ]
  },
  {
   "cell_type": "markdown",
   "id": "6ac374a8",
   "metadata": {},
   "source": [
    "# replace all odd numbers with -1\n"
   ]
  },
  {
   "cell_type": "code",
   "execution_count": 12,
   "id": "ba5ca7d0",
   "metadata": {},
   "outputs": [
    {
     "name": "stdout",
     "output_type": "stream",
     "text": [
      "[7 8]\n"
     ]
    }
   ],
   "source": [
    "print(array[-1])"
   ]
  },
  {
   "cell_type": "code",
   "execution_count": null,
   "id": "aeb39756",
   "metadata": {},
   "outputs": [],
   "source": [
    "array.where(i%2==1)"
   ]
  }
 ],
 "metadata": {
  "kernelspec": {
   "display_name": "Python 3 (ipykernel)",
   "language": "python",
   "name": "python3"
  },
  "language_info": {
   "codemirror_mode": {
    "name": "ipython",
    "version": 3
   },
   "file_extension": ".py",
   "mimetype": "text/x-python",
   "name": "python",
   "nbconvert_exporter": "python",
   "pygments_lexer": "ipython3",
   "version": "3.9.13"
  }
 },
 "nbformat": 4,
 "nbformat_minor": 5
}
