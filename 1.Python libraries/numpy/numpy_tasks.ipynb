{
 "cells": [
  {
   "cell_type": "code",
   "execution_count": 1,
   "id": "ebd9e49c",
   "metadata": {},
   "outputs": [],
   "source": [
    "#replace all odd numbers of array with -1"
   ]
  },
  {
   "cell_type": "code",
   "execution_count": 5,
   "id": "2360368b",
   "metadata": {},
   "outputs": [
    {
     "ename": "IndentationError",
     "evalue": "expected an indented block (405255074.py, line 5)",
     "output_type": "error",
     "traceback": [
      "\u001b[1;36m  File \u001b[1;32m\"C:\\Users\\ram\\AppData\\Local\\Temp\\ipykernel_9352\\405255074.py\"\u001b[1;36m, line \u001b[1;32m5\u001b[0m\n\u001b[1;33m    \u001b[0m\n\u001b[1;37m    ^\u001b[0m\n\u001b[1;31mIndentationError\u001b[0m\u001b[1;31m:\u001b[0m expected an indented block\n"
     ]
    }
   ],
   "source": [
    "import numpy\n",
    "array1= numpy.array((1,2,3,4,5,6,7,8,9))\n",
    "for idin array1:\n",
    "    if (x%2==1):\n",
    "    \n"
   ]
  },
  {
   "cell_type": "code",
   "execution_count": 8,
   "id": "faf09426",
   "metadata": {},
   "outputs": [
    {
     "ename": "TypeError",
     "evalue": "array() takes from 1 to 2 positional arguments but 3 were given",
     "output_type": "error",
     "traceback": [
      "\u001b[1;31m---------------------------------------------------------------------------\u001b[0m",
      "\u001b[1;31mTypeError\u001b[0m                                 Traceback (most recent call last)",
      "\u001b[1;32m~\\AppData\\Local\\Temp\\ipykernel_9352\\137177623.py\u001b[0m in \u001b[0;36m<module>\u001b[1;34m\u001b[0m\n\u001b[0;32m      1\u001b[0m \u001b[1;32mimport\u001b[0m \u001b[0mnumpy\u001b[0m\u001b[1;33m\u001b[0m\u001b[1;33m\u001b[0m\u001b[0m\n\u001b[1;32m----> 2\u001b[1;33m \u001b[0marray1\u001b[0m\u001b[1;33m=\u001b[0m \u001b[0mnumpy\u001b[0m\u001b[1;33m.\u001b[0m\u001b[0marray\u001b[0m\u001b[1;33m(\u001b[0m\u001b[1;33m(\u001b[0m\u001b[1;36m1\u001b[0m\u001b[1;33m,\u001b[0m\u001b[1;36m2\u001b[0m\u001b[1;33m,\u001b[0m\u001b[1;36m3\u001b[0m\u001b[1;33m)\u001b[0m\u001b[1;33m,\u001b[0m\u001b[1;33m(\u001b[0m\u001b[1;36m4\u001b[0m\u001b[1;33m,\u001b[0m\u001b[1;36m5\u001b[0m\u001b[1;33m,\u001b[0m\u001b[1;36m6\u001b[0m\u001b[1;33m)\u001b[0m\u001b[1;33m,\u001b[0m\u001b[1;33m(\u001b[0m\u001b[1;36m7\u001b[0m\u001b[1;33m,\u001b[0m\u001b[1;36m8\u001b[0m\u001b[1;33m,\u001b[0m\u001b[1;36m9\u001b[0m\u001b[1;33m)\u001b[0m\u001b[1;33m)\u001b[0m\u001b[1;33m\u001b[0m\u001b[1;33m\u001b[0m\u001b[0m\n\u001b[0m\u001b[0;32m      3\u001b[0m \u001b[1;32mfor\u001b[0m \u001b[0midx\u001b[0m\u001b[1;33m,\u001b[0m\u001b[0mx\u001b[0m \u001b[1;32min\u001b[0m \u001b[0mnumpy\u001b[0m\u001b[1;33m.\u001b[0m\u001b[0mndenumerate\u001b[0m\u001b[1;33m(\u001b[0m\u001b[0marray1\u001b[0m\u001b[1;33m)\u001b[0m\u001b[1;33m:\u001b[0m\u001b[1;33m\u001b[0m\u001b[1;33m\u001b[0m\u001b[0m\n\u001b[0;32m      4\u001b[0m     \u001b[1;32mif\u001b[0m \u001b[1;33m(\u001b[0m\u001b[0mx\u001b[0m\u001b[1;33m%\u001b[0m\u001b[1;36m2\u001b[0m\u001b[1;33m==\u001b[0m\u001b[1;36m1\u001b[0m\u001b[1;33m)\u001b[0m\u001b[1;33m:\u001b[0m\u001b[1;33m\u001b[0m\u001b[1;33m\u001b[0m\u001b[0m\n\u001b[0;32m      5\u001b[0m         \u001b[0marray1\u001b[0m\u001b[1;33m[\u001b[0m\u001b[0midx\u001b[0m\u001b[1;33m]\u001b[0m\u001b[1;33m=\u001b[0m\u001b[1;33m-\u001b[0m\u001b[1;36m1\u001b[0m\u001b[1;33m\u001b[0m\u001b[1;33m\u001b[0m\u001b[0m\n",
      "\u001b[1;31mTypeError\u001b[0m: array() takes from 1 to 2 positional arguments but 3 were given"
     ]
    }
   ],
   "source": [
    "import numpy \n",
    "array1= numpy.array((1,2,3,4,5,6,7,8,9))\n",
    "for idx,x in np.ndenumerate(array1):\n",
    "    if (x%2==1):\n",
    "        array1[idx]=-1\n",
    "array1"
   ]
  },
  {
   "cell_type": "code",
   "execution_count": 19,
   "id": "fefe52ad",
   "metadata": {},
   "outputs": [
    {
     "ename": "IndexError",
     "evalue": "index 3 is out of bounds for axis 0 with size 3",
     "output_type": "error",
     "traceback": [
      "\u001b[1;31m---------------------------------------------------------------------------\u001b[0m",
      "\u001b[1;31mIndexError\u001b[0m                                Traceback (most recent call last)",
      "\u001b[1;32m~\\AppData\\Local\\Temp\\ipykernel_9352\\28710237.py\u001b[0m in \u001b[0;36m<module>\u001b[1;34m\u001b[0m\n\u001b[0;32m      6\u001b[0m     \u001b[1;32mfor\u001b[0m \u001b[0my\u001b[0m \u001b[1;32min\u001b[0m \u001b[0mx\u001b[0m\u001b[1;33m:\u001b[0m\u001b[1;33m\u001b[0m\u001b[1;33m\u001b[0m\u001b[0m\n\u001b[0;32m      7\u001b[0m         \u001b[0mj\u001b[0m\u001b[1;33m=\u001b[0m\u001b[0mj\u001b[0m\u001b[1;33m+\u001b[0m\u001b[1;36m1\u001b[0m\u001b[1;33m\u001b[0m\u001b[1;33m\u001b[0m\u001b[0m\n\u001b[1;32m----> 8\u001b[1;33m         \u001b[1;32mif\u001b[0m \u001b[1;33m(\u001b[0m\u001b[0marray2\u001b[0m\u001b[1;33m[\u001b[0m\u001b[0mi\u001b[0m\u001b[1;33m-\u001b[0m\u001b[1;36m1\u001b[0m\u001b[1;33m]\u001b[0m\u001b[1;33m[\u001b[0m\u001b[0mj\u001b[0m\u001b[1;33m-\u001b[0m\u001b[1;36m1\u001b[0m\u001b[1;33m]\u001b[0m \u001b[1;33m%\u001b[0m \u001b[1;36m2\u001b[0m\u001b[1;33m==\u001b[0m\u001b[1;36m1\u001b[0m\u001b[1;33m)\u001b[0m\u001b[1;33m:\u001b[0m\u001b[1;33m\u001b[0m\u001b[1;33m\u001b[0m\u001b[0m\n\u001b[0m\u001b[0;32m      9\u001b[0m             \u001b[0marray2\u001b[0m\u001b[1;33m[\u001b[0m\u001b[0mi\u001b[0m\u001b[1;33m-\u001b[0m\u001b[1;36m1\u001b[0m\u001b[1;33m]\u001b[0m\u001b[1;33m[\u001b[0m\u001b[0mj\u001b[0m\u001b[1;33m-\u001b[0m\u001b[1;36m1\u001b[0m\u001b[1;33m]\u001b[0m\u001b[1;33m=\u001b[0m\u001b[1;33m-\u001b[0m\u001b[1;36m1\u001b[0m\u001b[1;33m\u001b[0m\u001b[1;33m\u001b[0m\u001b[0m\n\u001b[0;32m     10\u001b[0m \u001b[0marray2\u001b[0m\u001b[1;33m\u001b[0m\u001b[1;33m\u001b[0m\u001b[0m\n",
      "\u001b[1;31mIndexError\u001b[0m: index 3 is out of bounds for axis 0 with size 3"
     ]
    }
   ],
   "source": [
    "import numpy \n",
    "i=j=0\n",
    "array2= numpy.array(((1,2,3),(4,5,6),(7,8,9)))\n",
    "for x in array2:\n",
    "    i=i+1\n",
    "    for y in x:\n",
    "        j=j+1\n",
    "        if (array2[i-1][j-1] % 2==1):\n",
    "            array2[i-1][j-1]=-1\n",
    "array2"
   ]
  },
  {
   "cell_type": "code",
   "execution_count": 22,
   "id": "3a69214b",
   "metadata": {},
   "outputs": [
    {
     "data": {
      "text/plain": [
       "array([[1, 2, 3],\n",
       "       [4, 5, 6],\n",
       "       [7, 8, 9]])"
      ]
     },
     "execution_count": 22,
     "metadata": {},
     "output_type": "execute_result"
    }
   ],
   "source": [
    "#Convert a 1-D array into a 2-D array with 3 'rows' \n",
    "array1= numpy.array((1,2,3,4,5,6,7,8,9))\n",
    "array2=array1.reshape(3,-1)\n",
    "array2"
   ]
  },
  {
   "cell_type": "code",
   "execution_count": 51,
   "id": "c0c900f9",
   "metadata": {},
   "outputs": [
    {
     "name": "stdout",
     "output_type": "stream",
     "text": [
      "[[0 1]\n",
      " [2 3]]\n"
     ]
    },
    {
     "data": {
      "text/plain": [
       "array([202., 203., 204., 205.])"
      ]
     },
     "execution_count": 51,
     "metadata": {},
     "output_type": "execute_result"
    }
   ],
   "source": [
    "#3.Add 202 to all the values in given array\n",
    "import numpy as np\n",
    "array= np.arange(4).reshape(2,-1)\n",
    "array2=np.array(())\n",
    "print(array)\n",
    "for x in np.nditer(array):\n",
    "    array2=np.append(array2, x+202)#note\n",
    "array2"
   ]
  },
  {
   "cell_type": "code",
   "execution_count": 54,
   "id": "38ea942d",
   "metadata": {},
   "outputs": [],
   "source": [
    "#4.Generate a 1-D array of 10 random integers. Eachinteger should be a number between 30 and 40 (inclusive)\n"
   ]
  },
  {
   "cell_type": "markdown",
   "id": "73132e4c",
   "metadata": {},
   "source": [
    "\"\"\".Find the positions of:elements in x where its value is more than its corresponding element in y, andelements in x where its valueisequals to its corresponding element in y.Start with these:x = np.array([21, 64, 86, 22, 74, 55, 81, 79, 90, 89])y = np.array([21, 7, 3, 45,10, 29, 55, 4, 37, 18])Desired output:\n",
    "(array([1, 2, 4, 5, 6, 7, 8, 9]),)and(array([0]),) \"\"\""
   ]
  },
  {
   "cell_type": "code",
   "execution_count": 64,
   "id": "8051e2ef",
   "metadata": {},
   "outputs": [
    {
     "name": "stdout",
     "output_type": "stream",
     "text": [
      "[1. 2. 4. 5. 6. 7. 8. 9.] [0.]\n"
     ]
    }
   ],
   "source": [
    "array1= x = np.array([21, 64, 86, 22, 74, 55, 81, 79, 90, 89])\n",
    "array2= y = np.array([21, 7, 3, 45,10, 29, 55, 4, 37, 18])\n",
    "array1_higher=array1_equals=np.array(())\n",
    "if (len(array1)>len(array2)):\n",
    "    length=len(array1)\n",
    "else:\n",
    "    length=len(array2)\n",
    "for x in range(length):\n",
    "    if (array1[x]>array2[x]):\n",
    "        array1_higher=np.append(array1_higher, x)\n",
    "    if (array1[x]==array2[x]):\n",
    "        array1_equals=np.append(array1_equals, x)\n",
    "print(array1_higher,array1_equals)"
   ]
  },
  {
   "cell_type": "code",
   "execution_count": 75,
   "id": "604fb5d6",
   "metadata": {},
   "outputs": [
    {
     "name": "stdout",
     "output_type": "stream",
     "text": [
      "(array([0], dtype=int64),) (array([], dtype=int64),)\n"
     ]
    }
   ],
   "source": [
    "array1= x = np.array([21, 64, 86, 22, 74, 55, 81, 79, 90, 89])\n",
    "array2= y = np.array([21, 7, 3, 45,10, 29, 55, 4, 37, 18])\n",
    "\n",
    "if (len(array1)>len(array2)):\n",
    "    length=len(array1)\n",
    "else:\n",
    "    length=len(array2)\n",
    "\n",
    "for i in range(length):\n",
    "    array1_higher=np.where(array1[i]>array2[i])\n",
    "    array1_equals=np.where(array1[i]==array2[i])\n",
    "print(array1_higher,array1_equals)"
   ]
  },
  {
   "cell_type": "code",
   "execution_count": 78,
   "id": "26775295",
   "metadata": {},
   "outputs": [
    {
     "name": "stdout",
     "output_type": "stream",
     "text": [
      "[[ 0  1  2  3]\n",
      " [20 21 22 23]\n",
      " [40 41 42 43]\n",
      " [60 61 62 63]\n",
      " [80 81 82 83]]\n"
     ]
    }
   ],
   "source": [
    "#6.Extract the first four columns of this 2-D arrayStart with this:\n",
    "array= np.arange(100).reshape(5,-1)\n",
    "print(array[0:5,0:4])"
   ]
  },
  {
   "cell_type": "code",
   "execution_count": 93,
   "id": "afe56d25",
   "metadata": {},
   "outputs": [
    {
     "name": "stdout",
     "output_type": "stream",
     "text": [
      "[[ 0  1  2  3  4  5  6  7  8  9 10 11 12 13 14 15 16 17 18 19]\n",
      " [20 21 22 23 24 25 26 27 28 29 30 31 32 33 34 35 36 37 38 39]\n",
      " [40 41 42 43 44 45 46 47 48 49 50 51 52 53 54 55 56 57 58 59]\n",
      " [60 61 62 63 64 65 66 67 68 69 70 71 72 73 74 75 76 77 78 79]\n",
      " [80 81 82 83 84 85 86 87 88 89 90 91 92 93 94 95 96 97 98 99]]\n"
     ]
    },
    {
     "data": {
      "text/plain": [
       "array([[ 1,  0,  2,  3,  4,  5,  6,  7,  8,  9, 10, 11, 12, 13, 14, 15,\n",
       "        16, 17, 18, 19],\n",
       "       [21, 20, 22, 23, 24, 25, 26, 27, 28, 29, 30, 31, 32, 33, 34, 35,\n",
       "        36, 37, 38, 39],\n",
       "       [41, 40, 42, 43, 44, 45, 46, 47, 48, 49, 50, 51, 52, 53, 54, 55,\n",
       "        56, 57, 58, 59],\n",
       "       [61, 60, 62, 63, 64, 65, 66, 67, 68, 69, 70, 71, 72, 73, 74, 75,\n",
       "        76, 77, 78, 79],\n",
       "       [81, 80, 82, 83, 84, 85, 86, 87, 88, 89, 90, 91, 92, 93, 94, 95,\n",
       "        96, 97, 98, 99]])"
      ]
     },
     "execution_count": 93,
     "metadata": {},
     "output_type": "execute_result"
    }
   ],
   "source": [
    "#7.Swap two columns in a 2d numpy array\n",
    "array= np.arange(100).reshape(5,-1)\n",
    "print(array)\n",
    "subst_array=np.array(array,ndmin=2)\n",
    "for x in range(len(array)):\n",
    "    subst_array[x, 0]=array[x, 0]\n",
    "    array[x, 0]=array[x, 1]\n",
    "    array[x, 1]=subst_array[x, 0]\n",
    "array"
   ]
  },
  {
   "cell_type": "code",
   "execution_count": 94,
   "id": "bd592443",
   "metadata": {},
   "outputs": [],
   "source": [
    "#8.Create a 2D array containing random floats between 5 and 10"
   ]
  },
  {
   "cell_type": "code",
   "execution_count": 99,
   "id": "7c09778f",
   "metadata": {},
   "outputs": [
    {
     "name": "stdout",
     "output_type": "stream",
     "text": [
      "[[100 110]\n",
      " [120 130]\n",
      " [140 150]\n",
      " [160 170]\n",
      " [180 190]]\n"
     ]
    }
   ],
   "source": [
    "#9.Create a 5X2 integer array from a range between 100 to 200 such that the difference between each element is 10Desired output: [[100 110][120 130][140 150][160 170][180 190]]\n",
    "print(np.arange(100,200,10).reshape(5,-1))#note the arange spelling\n"
   ]
  },
  {
   "cell_type": "code",
   "execution_count": 100,
   "id": "56ded906",
   "metadata": {},
   "outputs": [
    {
     "data": {
      "text/plain": [
       "array([[20, 39, 33],\n",
       "       [25, 25, 28]])"
      ]
     },
     "execution_count": 100,
     "metadata": {},
     "output_type": "execute_result"
    }
   ],
   "source": [
    "#10.Create a result array by adding the following two NumPy arrays. Next, modify the result array by calculating the square of each element,\n",
    "arrayOne =numpy.array([[5,6,9],[21,18,27]])\n",
    "arrayTwo =numpy.array([[15,33,24],[4,7,1]])\n",
    "arraysum=arrayOne[:,:]+arrayTwo[:,:]#note we didn't use for loop instead used slicing\n",
    "arraysum"
   ]
  },
  {
   "cell_type": "code",
   "execution_count": 104,
   "id": "f62f51de",
   "metadata": {},
   "outputs": [
    {
     "data": {
      "text/plain": [
       "array([[   625,   1296,   6561],\n",
       "       [194481, 104976, 531441]], dtype=int32)"
      ]
     },
     "execution_count": 104,
     "metadata": {},
     "output_type": "execute_result"
    }
   ],
   "source": [
    "arraysquare=arraysquare[:,:]**2\n",
    "arraysquare"
   ]
  },
  {
   "cell_type": "code",
   "execution_count": null,
   "id": "36d43db6",
   "metadata": {},
   "outputs": [],
   "source": []
  }
 ],
 "metadata": {
  "kernelspec": {
   "display_name": "Python 3 (ipykernel)",
   "language": "python",
   "name": "python3"
  },
  "language_info": {
   "codemirror_mode": {
    "name": "ipython",
    "version": 3
   },
   "file_extension": ".py",
   "mimetype": "text/x-python",
   "name": "python",
   "nbconvert_exporter": "python",
   "pygments_lexer": "ipython3",
   "version": "3.9.13"
  }
 },
 "nbformat": 4,
 "nbformat_minor": 5
}
